{
 "cells": [
  {
   "cell_type": "markdown",
   "metadata": {},
   "source": [
    "# Deep Learning Font Classifier\n",
    "\n",
    "### Introduction\n",
    "\n",
    "This project develops a deep learning classifier to identify fonts in text images. The process involves:\n",
    "\n",
    "1. **Image Preprocessing**: Using OpenCV to detect text boxes.\n",
    "2. **Character Extraction**: Utilizing Pytesseract to extract individual characters.\n",
    "3. **Font Classification**: Applying a Convolutional Neural Network (CNN) to classify the font of each character and determining the font of the text box through majority voting.\n",
    "\n",
    "\n",
    "### Approach\n",
    "\n",
    "- **Image Preprocessing**: Thresholding and dilation to enhance text regions, followed by contour detection for locating text boxes.\n",
    "- **Character Extraction**: Bounding box identification and Region of Interest (ROI) extraction for each character.\n",
    "- **Deep Learning Classification**: A custom CNN model classifies each character's font, and majority voting determines the font of the text box.\n",
    "\n"
   ]
  },
  {
   "cell_type": "markdown",
   "metadata": {},
   "source": [
    "## 1.Test Data Generation with Multiple Words\n",
    "\n",
    "To generate test data containing multiple words, we can follow these steps:\n",
    "\n"
   ]
  },
  {
   "cell_type": "code",
   "execution_count": 3,
   "metadata": {},
   "outputs": [
    {
     "name": "stderr",
     "output_type": "stream",
     "text": [
      "/tmp/ipykernel_105635/710198143.py:55: DeprecationWarning: getsize is deprecated and will be removed in Pillow 10 (2023-07-01). Use getbbox or getlength instead.\n",
      "  text_width, text_height = font.getsize(text)\n"
     ]
    },
    {
     "name": "stdout",
     "output_type": "stream",
     "text": [
      "Images with stretched text boxes created successfully and saved to the output folder!\n"
     ]
    }
   ],
   "source": [
    "import os\n",
    "import random\n",
    "from PIL import Image, ImageDraw, ImageFont\n",
    "\n",
    "# Define text\n",
    "text = \"Hello World!\"\n",
    "\n",
    "# Define font directory\n",
    "font_directory = \"fonts\"\n",
    "\n",
    "# Define output directory\n",
    "output_directory = \"output_images\"\n",
    "\n",
    "# Create output directory if it doesn't exist\n",
    "os.makedirs(output_directory, exist_ok=True)\n",
    "\n",
    "# List all font files in the directory\n",
    "font_files = [f for f in os.listdir(font_directory) if f.endswith('.ttf')]\n",
    "\n",
    "# Define font sizes\n",
    "font_sizes = [64]\n",
    "\n",
    "# Load all fonts\n",
    "fonts = [ImageFont.truetype(os.path.join(font_directory, font_file), random.choice(font_sizes)) for font_file in font_files]\n",
    "\n",
    "# Define image size\n",
    "image_width = 1920\n",
    "image_height = 720\n",
    "\n",
    "# Define grid parameters\n",
    "num_rows = 3\n",
    "num_cols = 3\n",
    "cell_width = image_width // num_cols\n",
    "cell_height = image_height // num_rows\n",
    "\n",
    "# Stretch scale for text boxes\n",
    "# Create images with stretched text boxes\n",
    "for i in range(10):  # Create 10 images\n",
    "    # Create image\n",
    "    image = Image.new(\"RGB\", (image_width, image_height), \"white\")\n",
    "    draw = ImageDraw.Draw(image)\n",
    "\n",
    "    # Shuffle fonts for variety\n",
    "    random.shuffle(fonts)\n",
    "\n",
    "    # Draw text in each cell of the grid and stretch vertically and horizontally\n",
    "    for row in range(num_rows):\n",
    "        for col in range(num_cols):\n",
    "            # Randomly select font and size for the text\n",
    "            font = random.choice(fonts)\n",
    "\n",
    "            # Generate text box\n",
    "            textbox = Image.new(\"RGB\", (cell_width, cell_height), \"white\")\n",
    "            textbox_draw = ImageDraw.Draw(textbox)\n",
    "            text_width, text_height = font.getsize(text)\n",
    "            x = (cell_width - text_width) // 2\n",
    "            y = (cell_height - text_height) // 2\n",
    "            textbox_draw.text((x, y), text, fill=\"black\", font=font)\n",
    "            # Calculate position to paste the text box on the image\n",
    "            paste_x = col * cell_width\n",
    "            paste_y = row * cell_height\n",
    "\n",
    "            # Paste stretched text box onto the image\n",
    "            image.paste(textbox, (paste_x, paste_y))\n",
    "\n",
    "    # Save image to the output directory\n",
    "    output_path = os.path.join(output_directory, f\"hello_{i}.png\")\n",
    "    image.save(output_path)\n",
    "\n",
    "print(\"Images with stretched text boxes created successfully and saved to the output folder!\")\n"
   ]
  },
  {
   "cell_type": "markdown",
   "metadata": {},
   "source": [
    "## 2.Data Generation for DeepCNN Classifier Training\n",
    "\n",
    "The following code is used to generate data for training a Deep Convolutional Neural Network (DeepCNN) classifier. The DeepCNN classifier is a type of neural network that is commonly used for image classification tasks.\n",
    "\n",
    "I am taking individual letters as training data to train the model, this is done as a lot of letters are similar and we can take a cumulative score"
   ]
  },
  {
   "cell_type": "markdown",
   "metadata": {},
   "source": []
  },
  {
   "cell_type": "code",
   "execution_count": 4,
   "metadata": {},
   "outputs": [
    {
     "name": "stderr",
     "output_type": "stream",
     "text": [
      "/tmp/ipykernel_105635/1656628078.py:52: DeprecationWarning: getsize is deprecated and will be removed in Pillow 10 (2023-07-01). Use getbbox or getlength instead.\n",
      "  text_width, text_height = font.getsize(char)\n"
     ]
    }
   ],
   "source": [
    "import os\n",
    "import random\n",
    "import cv2\n",
    "import numpy as np\n",
    "from PIL import Image, ImageDraw, ImageFont\n",
    "\n",
    "# Define text\n",
    "text = \"Hello World!\"\n",
    "\n",
    "# Define font directory\n",
    "font_directory = \"fonts\"\n",
    "\n",
    "# Define output directory\n",
    "output_directory = \"training_data/output_stretched_textboxes\"\n",
    "\n",
    "# Define training data directory\n",
    "training_directory = \"training_data\"\n",
    "\n",
    "# Create output directory if it doesn't exist\n",
    "os.makedirs(output_directory, exist_ok=True)\n",
    "os.makedirs(training_directory, exist_ok=True)\n",
    "\n",
    "# List all font files in the directory\n",
    "font_files = [f for f in os.listdir(font_directory) if f.endswith('.ttf')]\n",
    "\n",
    "# Define font sizes\n",
    "font_sizes = [64]\n",
    "\n",
    "# Load all fonts\n",
    "fonts = [ImageFont.truetype(os.path.join(font_directory, font_file), random.choice(font_sizes)) for font_file in font_files]\n",
    "\n",
    "# Create training data file\n",
    "with open(os.path.join(training_directory, \"training_data.txt\"), \"w\") as f:\n",
    "    # Create stretched text boxes\n",
    "    for i in range(1000):  # Create 1000 images\n",
    "        # Shuffle fonts for variety\n",
    "        random.shuffle(fonts)\n",
    "\n",
    "        # Randomly select font for the image\n",
    "        font = random.choice(fonts)\n",
    "        \n",
    "        for char in text:\n",
    "            if char == \" \":\n",
    "                continue\n",
    "            # Generate text box for each character\n",
    "            textbox = Image.new(\"RGB\", (64, 64), \"white\")  # Fixed size for simplicity\n",
    "            textbox_draw = ImageDraw.Draw(textbox)\n",
    "            # Randomly shift the position of the letter\n",
    "            shift_x = random.randint(-10, 10)\n",
    "            shift_y = random.randint(-10, 10)\n",
    "\n",
    "            text_width, text_height = font.getsize(char)\n",
    "            x = (64 - text_width+shift_x) // 2\n",
    "            y = (64 - text_height+shift_y) // 2\n",
    "            textbox_draw.text((x, y), char, fill=\"black\", font=font)\n",
    "            textbox_np = np.array(textbox)\n",
    "\n",
    "            # Save the character image\n",
    "            output_path = os.path.join(output_directory, f\"{char}_font_{i}.png\")\n",
    "            cv2.imwrite(output_path, textbox_np)\n",
    "            \n",
    "            # Write the label to the training data file\n",
    "            label = f\"{char}_font_{i}.png \\\"{font.getname()[0]}\\\"\\n\"\n",
    "            f.write(label)\n"
   ]
  },
  {
   "cell_type": "markdown",
   "metadata": {},
   "source": [
    "## 3.Model and dataset creation"
   ]
  },
  {
   "cell_type": "code",
   "execution_count": 5,
   "metadata": {},
   "outputs": [],
   "source": [
    "import os\n",
    "import random\n",
    "import torch\n",
    "import numpy as np\n",
    "from sklearn.model_selection import train_test_split\n",
    "import torch.nn as nn\n",
    "import torch.optim as optim\n",
    "import torchvision.transforms as transforms\n",
    "from torch.utils.data import Dataset, DataLoader\n",
    "from PIL import Image\n",
    "import torch.nn.functional as F\n",
    "from sklearn.metrics import confusion_matrix\n",
    "\n",
    "class SimpleCNN(nn.Module):\n",
    "    def __init__(self):\n",
    "        super(SimpleCNN, self).__init__()\n",
    "        # Define the layers\n",
    "        self.conv1 = nn.Conv2d(1, 64, 5, padding=2)  # Changed kernel size to 5 to accommodate 64x64 input\n",
    "        self.pool = nn.MaxPool2d(2, 2)    # kernel size, stride\n",
    "        self.conv2 = nn.Conv2d(64, 128, 5, padding=2)  # Changed kernel size to 5 to maintain feature map size\n",
    "        self.fc1 = nn.Linear(128 * 16 * 16, 512)  # Adjusted based on input size after pooling\n",
    "        self.fc2 = nn.Linear(512, 8)\n",
    "\n",
    "    def forward(self, x):\n",
    "        # Define the forward pass\n",
    "        x = self.pool(F.relu(self.conv1(x)))\n",
    "        x = self.pool(F.relu(self.conv2(x)))\n",
    "        x = x.view(-1, 128 * 16 * 16)  # Adjusted based on input size after pooling\n",
    "        x = F.relu(self.fc1(x))\n",
    "        x = F.dropout(x, p=0.5, training=self.training)  # Dropout layer with 0.5 probability\n",
    "        x = self.fc2(x)\n",
    "        return F.log_softmax(x, dim=1)  # Log softmax for output layer\n",
    "\n",
    "\n",
    "\n",
    "# Define a custom dataset class\n",
    "class CustomDataset(Dataset):\n",
    "    def __init__(self, data_dir,data, labels, transform=None):\n",
    "        self.data_dir = data_dir\n",
    "        self.data = data\n",
    "        self.labels = labels\n",
    "        self.transform = transform\n",
    "\n",
    "    def __len__(self):\n",
    "        return len(self.data)\n",
    "\n",
    "    def __getitem__(self, idx):\n",
    "        filename = self.data[idx]\n",
    "        image_path = os.path.join(self.data_dir, filename)\n",
    "        image = Image.open(image_path).convert('L')  # Convert to grayscale\n",
    "        if self.transform:\n",
    "            image = self.transform(image)\n",
    "        label = self.labels[idx]\n",
    "\n",
    "        return image, label\n",
    "\n",
    "\n",
    "def classes_to_one_hot(classes):\n",
    "    # Get unique classes and sort them\n",
    "    unique_classes = sorted(set(classes))\n",
    "    \n",
    "    # Create dictionary to store one-hot encoded tensors\n",
    "    one_hot_dict = {}\n",
    "    \n",
    "    # Convert each class to one-hot encoding\n",
    "    for i, class_name in enumerate(unique_classes):\n",
    "        # Initialize one-hot tensor\n",
    "        one_hot = torch.zeros(len(unique_classes))\n",
    "        \n",
    "        # Set corresponding index to 1\n",
    "        one_hot[i] = 1\n",
    "        \n",
    "        # Store one-hot tensor in dictionary\n",
    "        one_hot_dict[class_name] = one_hot\n",
    "    \n",
    "    return one_hot_dict\n",
    "\n",
    "def labels_to_one_hot(labels, one_hot_dict):\n",
    "    # Convert each label to one-hot encoding using the dictionary\n",
    "    one_hot_labels = [one_hot_dict[label] for label in labels]\n",
    "    \n",
    "    return one_hot_labels\n",
    "# Define paths\n",
    "txt_file = 'training_data/training_data.txt'  # Path to your .txt file containing filenames and labels\n",
    "data_dir = 'training_data/output_stretched_textboxes'  # Directory containing your image data\n",
    "\n",
    "# Read labels from the .txt file\n",
    "labels = {}\n",
    "with open(txt_file, 'r') as file:\n",
    "    for line in file:\n",
    "        filename, label = line.strip().split(' \"')\n",
    "        labels[filename] = label\n",
    "\n",
    "# Create lists of filenames and corresponding labels\n",
    "filenames = list(labels.keys())\n",
    "labels = list(labels.values())\n",
    "\n",
    "num_classes = 8  # Set the number of classes\n",
    "# Convert integer indices to one-hot encoded vectors\n",
    "one_hot_dict = classes_to_one_hot(labels)\n",
    "# Split dataset into training and testing sets. Stratify the split to maintain the same distribution of labels in both sets\n",
    "one_hot_labels = labels_to_one_hot(labels, one_hot_dict)\n"
   ]
  },
  {
   "cell_type": "code",
   "execution_count": 6,
   "metadata": {},
   "outputs": [],
   "source": [
    "train_filenames, test_filenames, train_labels, test_labels = train_test_split(filenames, one_hot_labels, test_size=0.2, stratify=labels)\n",
    "\n",
    "# Define preprocessing transforms\n",
    "transform = transforms.Compose([\n",
    "    transforms.Resize((64, 64)),\n",
    "    transforms.Grayscale(num_output_channels=1),\n",
    "    transforms.ToTensor(),\n",
    "    transforms.Normalize((0.5,), (0.5,))\n",
    "])\n",
    "\n",
    "\n",
    "# Create datasets and data loaders\n",
    "train_dataset = CustomDataset(data_dir,train_filenames, train_labels, transform=transform)\n",
    "test_dataset = CustomDataset(data_dir,test_filenames, test_labels, transform=transform)\n",
    "\n",
    "device = torch.device(\"cuda\" if torch.cuda.is_available() else \"cpu\")\n",
    "train_loader = DataLoader(train_dataset, batch_size=64, shuffle=True,pin_memory=True)\n",
    "test_loader = DataLoader(test_dataset, batch_size=64, shuffle=False,pin_memory=True)"
   ]
  },
  {
   "cell_type": "code",
   "execution_count": 7,
   "metadata": {},
   "outputs": [
    {
     "data": {
      "image/png": "[encoded data removed]",
      "text/plain": [
       "<Figure size 640x480 with 1 Axes>"
      ]
     },
     "metadata": {},
     "output_type": "display_data"
    },
    {
     "name": "stdout",
     "output_type": "stream",
     "text": [
      "Sample Label: tensor([0., 0., 0., 0., 0., 0., 1., 0.])\n"
     ]
    }
   ],
   "source": [
    "import matplotlib.pyplot as plt\n",
    "\n",
    "# Access a sample image and label from the dataset\n",
    "sample_image, sample_label = next(iter(train_loader))\n",
    "\n",
    "# Convert the image tensor to a NumPy array and plot it\n",
    "plt.imshow(sample_image[0].squeeze(), cmap='gray')  # Assuming grayscale image\n",
    "plt.axis('off')\n",
    "plt.show()\n",
    "\n",
    "# Check whether the label matches the image displayed\n",
    "print(\"Sample Label:\", sample_label[0])\n"
   ]
  },
  {
   "cell_type": "markdown",
   "metadata": {},
   "source": [
    "## Training Script\n",
    "\n",
    "The provided Python script is for training a model. \n"
   ]
  },
  {
   "cell_type": "code",
   "execution_count": 8,
   "metadata": {},
   "outputs": [
    {
     "name": "stderr",
     "output_type": "stream",
     "text": [
      "Epoch 1/30: 100%|██████████| 100/100 [00:04<00:00, 20.40batch/s]\n"
     ]
    },
    {
     "name": "stdout",
     "output_type": "stream",
     "text": [
      "Epoch 1/30, Train Loss: 1066313.1794, Test Loss: 482317.9722\n"
     ]
    },
    {
     "name": "stderr",
     "output_type": "stream",
     "text": [
      "Epoch 2/30: 100%|██████████| 100/100 [00:03<00:00, 25.42batch/s]\n"
     ]
    },
    {
     "name": "stdout",
     "output_type": "stream",
     "text": [
      "Epoch 2/30, Train Loss: 367541.7542, Test Loss: 238727.0629\n"
     ]
    },
    {
     "name": "stderr",
     "output_type": "stream",
     "text": [
      "Epoch 3/30: 100%|██████████| 100/100 [00:03<00:00, 26.44batch/s]\n"
     ]
    },
    {
     "name": "stdout",
     "output_type": "stream",
     "text": [
      "Epoch 3/30, Train Loss: 215241.4736, Test Loss: 105234.0606\n"
     ]
    },
    {
     "name": "stderr",
     "output_type": "stream",
     "text": [
      "Epoch 4/30: 100%|██████████| 100/100 [00:03<00:00, 26.52batch/s]\n"
     ]
    },
    {
     "name": "stdout",
     "output_type": "stream",
     "text": [
      "Epoch 4/30, Train Loss: 148587.1842, Test Loss: 95243.5325\n"
     ]
    },
    {
     "name": "stderr",
     "output_type": "stream",
     "text": [
      "Epoch 5/30: 100%|██████████| 100/100 [00:03<00:00, 26.46batch/s]\n"
     ]
    },
    {
     "name": "stdout",
     "output_type": "stream",
     "text": [
      "Epoch 5/30, Train Loss: 98820.4201, Test Loss: 98109.3856\n"
     ]
    },
    {
     "name": "stderr",
     "output_type": "stream",
     "text": [
      "Epoch 6/30: 100%|██████████| 100/100 [00:03<00:00, 27.06batch/s]\n"
     ]
    },
    {
     "name": "stdout",
     "output_type": "stream",
     "text": [
      "Epoch 6/30, Train Loss: 79806.1960, Test Loss: 35364.0124\n"
     ]
    },
    {
     "name": "stderr",
     "output_type": "stream",
     "text": [
      "Epoch 7/30: 100%|██████████| 100/100 [00:03<00:00, 26.77batch/s]\n"
     ]
    },
    {
     "name": "stdout",
     "output_type": "stream",
     "text": [
      "Epoch 7/30, Train Loss: 42039.5963, Test Loss: 16856.0891\n"
     ]
    },
    {
     "name": "stderr",
     "output_type": "stream",
     "text": [
      "Epoch 8/30: 100%|██████████| 100/100 [00:03<00:00, 26.87batch/s]\n"
     ]
    },
    {
     "name": "stdout",
     "output_type": "stream",
     "text": [
      "Epoch 8/30, Train Loss: 42100.0002, Test Loss: 55371.6179\n"
     ]
    },
    {
     "name": "stderr",
     "output_type": "stream",
     "text": [
      "Epoch 9/30: 100%|██████████| 100/100 [00:03<00:00, 26.68batch/s]\n"
     ]
    },
    {
     "name": "stdout",
     "output_type": "stream",
     "text": [
      "Epoch 9/30, Train Loss: 42098.3471, Test Loss: 18728.3883\n"
     ]
    },
    {
     "name": "stderr",
     "output_type": "stream",
     "text": [
      "Epoch 10/30: 100%|██████████| 100/100 [00:03<00:00, 26.18batch/s]\n"
     ]
    },
    {
     "name": "stdout",
     "output_type": "stream",
     "text": [
      "Epoch 10/30, Train Loss: 35517.0258, Test Loss: 70807.6296\n"
     ]
    },
    {
     "name": "stderr",
     "output_type": "stream",
     "text": [
      "Epoch 11/30: 100%|██████████| 100/100 [00:03<00:00, 26.45batch/s]\n"
     ]
    },
    {
     "name": "stdout",
     "output_type": "stream",
     "text": [
      "Epoch 11/30, Train Loss: 43650.9851, Test Loss: 42935.9081\n"
     ]
    },
    {
     "name": "stderr",
     "output_type": "stream",
     "text": [
      "Epoch 12/30: 100%|██████████| 100/100 [00:03<00:00, 26.91batch/s]\n"
     ]
    },
    {
     "name": "stdout",
     "output_type": "stream",
     "text": [
      "Epoch 12/30, Train Loss: 24752.2752, Test Loss: 8334.8585\n"
     ]
    },
    {
     "name": "stderr",
     "output_type": "stream",
     "text": [
      "Epoch 13/30: 100%|██████████| 100/100 [00:03<00:00, 26.80batch/s]\n"
     ]
    },
    {
     "name": "stdout",
     "output_type": "stream",
     "text": [
      "Epoch 13/30, Train Loss: 30218.3235, Test Loss: 5706.1617\n"
     ]
    },
    {
     "name": "stderr",
     "output_type": "stream",
     "text": [
      "Epoch 14/30: 100%|██████████| 100/100 [00:03<00:00, 26.90batch/s]\n"
     ]
    },
    {
     "name": "stdout",
     "output_type": "stream",
     "text": [
      "Epoch 14/30, Train Loss: 23325.3495, Test Loss: 5439.5113\n"
     ]
    },
    {
     "name": "stderr",
     "output_type": "stream",
     "text": [
      "Epoch 15/30: 100%|██████████| 100/100 [00:03<00:00, 26.99batch/s]\n"
     ]
    },
    {
     "name": "stdout",
     "output_type": "stream",
     "text": [
      "Epoch 15/30, Train Loss: 16065.6113, Test Loss: 8835.5297\n"
     ]
    },
    {
     "name": "stderr",
     "output_type": "stream",
     "text": [
      "Epoch 16/30: 100%|██████████| 100/100 [00:03<00:00, 26.86batch/s]\n"
     ]
    },
    {
     "name": "stdout",
     "output_type": "stream",
     "text": [
      "Epoch 16/30, Train Loss: 12194.9709, Test Loss: 7182.0610\n"
     ]
    },
    {
     "name": "stderr",
     "output_type": "stream",
     "text": [
      "Epoch 17/30: 100%|██████████| 100/100 [00:03<00:00, 26.17batch/s]\n"
     ]
    },
    {
     "name": "stdout",
     "output_type": "stream",
     "text": [
      "Epoch 17/30, Train Loss: 10178.3883, Test Loss: 6531.8935\n"
     ]
    },
    {
     "name": "stderr",
     "output_type": "stream",
     "text": [
      "Epoch 18/30: 100%|██████████| 100/100 [00:03<00:00, 26.49batch/s]\n"
     ]
    },
    {
     "name": "stdout",
     "output_type": "stream",
     "text": [
      "Epoch 18/30, Train Loss: 7062.6318, Test Loss: 2475.3782\n"
     ]
    },
    {
     "name": "stderr",
     "output_type": "stream",
     "text": [
      "Epoch 19/30: 100%|██████████| 100/100 [00:03<00:00, 26.25batch/s]\n"
     ]
    },
    {
     "name": "stdout",
     "output_type": "stream",
     "text": [
      "Epoch 19/30, Train Loss: 16585.2249, Test Loss: 11217.0049\n"
     ]
    },
    {
     "name": "stderr",
     "output_type": "stream",
     "text": [
      "Epoch 20/30: 100%|██████████| 100/100 [00:03<00:00, 27.09batch/s]\n"
     ]
    },
    {
     "name": "stdout",
     "output_type": "stream",
     "text": [
      "Epoch 20/30, Train Loss: 14146.9522, Test Loss: 4219.9392\n"
     ]
    },
    {
     "name": "stderr",
     "output_type": "stream",
     "text": [
      "Epoch 21/30: 100%|██████████| 100/100 [00:03<00:00, 26.79batch/s]\n"
     ]
    },
    {
     "name": "stdout",
     "output_type": "stream",
     "text": [
      "Epoch 21/30, Train Loss: 20154.8153, Test Loss: 8331.4086\n"
     ]
    },
    {
     "name": "stderr",
     "output_type": "stream",
     "text": [
      "Epoch 22/30: 100%|██████████| 100/100 [00:03<00:00, 26.38batch/s]\n"
     ]
    },
    {
     "name": "stdout",
     "output_type": "stream",
     "text": [
      "Epoch 22/30, Train Loss: 15750.3988, Test Loss: 8446.0961\n"
     ]
    },
    {
     "name": "stderr",
     "output_type": "stream",
     "text": [
      "Epoch 23/30: 100%|██████████| 100/100 [00:03<00:00, 26.29batch/s]\n"
     ]
    },
    {
     "name": "stdout",
     "output_type": "stream",
     "text": [
      "Early stopping\n"
     ]
    }
   ],
   "source": [
    "import torch\n",
    "import torch.nn as nn\n",
    "import torch.optim as optim\n",
    "from torch.utils.data import DataLoader\n",
    "from torchvision import transforms\n",
    "from tqdm import tqdm\n",
    "\n",
    "# Define your model, loss function, optimizer, train_loader, and test_loader\n",
    "best_validation_loss = float('inf')\n",
    "train_losses = []\n",
    "test_losses = []\n",
    "# Initialize your model\n",
    "model = SimpleCNN()\n",
    "\n",
    "device = torch.device(\"cuda\" if torch.cuda.is_available() else \"cpu\")\n",
    "model.to(device)\n",
    "\n",
    "\n",
    "# Define your loss function and optimizer\n",
    "criterion = nn.CrossEntropyLoss()\n",
    "optimizer = optim.Adam(model.parameters(), lr=0.001)\n",
    "\n",
    "# Set the maximum number of epochs and initialize a flag to monitor convergence\n",
    "max_epochs = 30\n",
    "converged = False\n",
    "\n",
    "# Initialize variables to store previous training and test losses\n",
    "prev_train_loss = float('inf')\n",
    "prev_test_loss = float('inf')\n",
    "best_loss = float('inf')\n",
    "scale_factor = 1000000.0\n",
    "# Keep training until convergence or reaching the maximum number of epochs\n",
    "for epoch in range(max_epochs):\n",
    "    # If the model has converged, break the loop\n",
    "    if converged:\n",
    "        break\n",
    "\n",
    "    model.train()  # Set the model to train mode\n",
    "    running_train_loss = 0.0\n",
    "\n",
    "    # Iterate over the training data\n",
    "    for images, labels in tqdm(train_loader, desc=f'Epoch {epoch + 1}/{max_epochs}', unit='batch'):\n",
    "        images, labels = images.cuda(), labels.cuda()\n",
    "        optimizer.zero_grad()\n",
    "        # Forward pass\n",
    "        outputs = model(images)\n",
    "        # Compute loss\n",
    "        loss = criterion(outputs, labels)\n",
    "        # Backward pass and optimization\n",
    "        loss.backward()\n",
    "        optimizer.step()\n",
    "\n",
    "        # Update running training loss\n",
    "        running_train_loss += loss.item() * images.size(0) * scale_factor\n",
    "\n",
    "    # Compute average training loss for the epoch\n",
    "    epoch_train_loss = running_train_loss/len(train_loader.dataset)\n",
    "    train_losses.append(epoch_train_loss)\n",
    "\n",
    "    # Evaluate the model on the test set\n",
    "    model.eval()  # Set the model to evaluation mode\n",
    "    running_test_loss = 0.0\n",
    "\n",
    "    with torch.no_grad():\n",
    "        for images, labels in test_loader:\n",
    "            if torch.cuda.is_available():\n",
    "                images, labels = images.cuda(), labels.cuda()\n",
    "            outputs = model(images)\n",
    "            test_loss = criterion(outputs, labels)\n",
    "            running_test_loss += test_loss.item() * images.size(0) * scale_factor\n",
    "\n",
    "    # Compute average test loss for the epoch\n",
    "    epoch_test_loss = running_test_loss/len(test_loader.dataset)\n",
    "    test_losses.append(epoch_test_loss)\n",
    "    patience = 5\n",
    "    # Early stopping\n",
    "    if epoch_test_loss < best_loss:\n",
    "        best_loss = epoch_test_loss\n",
    "\n",
    "        patience_counter = 0\n",
    "    else:\n",
    "        patience_counter += 1\n",
    "        if patience_counter >= patience:\n",
    "            print(\"Early stopping\")\n",
    "            break\n",
    "\n",
    "\n",
    "\n",
    "    # Print epoch statistics\n",
    "    print(f'Epoch {epoch + 1}/{max_epochs}, Train Loss: {epoch_train_loss:.4f}, Test Loss: {epoch_test_loss:.4f}')\n"
   ]
  },
  {
   "cell_type": "code",
   "execution_count": 28,
   "metadata": {},
   "outputs": [
    {
     "data": {
      "image/png": "[encoded data removed]",
      "text/plain": [
       "<Figure size 640x480 with 1 Axes>"
      ]
     },
     "metadata": {},
     "output_type": "display_data"
    }
   ],
   "source": [
    "# Plot the training and validation loss\n",
    "plt.plot(train_losses, label='Training Loss')\n",
    "plt.plot(test_losses, label='Validation Loss')\n",
    "plt.xlabel('Epoch')\n",
    "plt.ylabel('Loss')\n",
    "# plt.ylim(0, 1000)  # Set y-axis limit to 0.1\n",
    "\n",
    "plt.title('Training and Validation Loss')\n",
    "plt.legend()\n",
    "# plt.show()\n",
    "plt.savefig('loss.png')\n"
   ]
  },
  {
   "cell_type": "code",
   "execution_count": 9,
   "metadata": {},
   "outputs": [
    {
     "name": "stdout",
     "output_type": "stream",
     "text": [
      "Confusion Matrix:\n",
      "[[195   0   0   0   0   0   2   0]\n",
      " [  0 235   0   0   0   0   0   0]\n",
      " [  0   0 205   0   0   0   0   0]\n",
      " [  0   0   0 198   0   0   0   0]\n",
      " [  0   0   0   0 197   0   0   0]\n",
      " [  0   0   0   0   0 187   0   0]\n",
      " [  1   0   0   0   0   0 177   0]\n",
      " [  0   0   0   0   1   0   0 202]]\n",
      "Accuracy: 99.75%\n"
     ]
    }
   ],
   "source": [
    "\n",
    "\n",
    "# Set the model to evaluation mode\n",
    "model.eval()\n",
    "\n",
    "# Move the model to the GPU if available\n",
    "device = torch.device(\"cuda\" if torch.cuda.is_available() else \"cpu\")\n",
    "model.to(device)\n",
    "\n",
    "# Initialize lists to store predictions and ground truth labels\n",
    "predictions = []\n",
    "ground_truths = []\n",
    "\n",
    "# Initialize list to store confidence scores\n",
    "confidence_scores = []\n",
    "\n",
    "# Iterate through the test dataset\n",
    "for images, labels in test_loader:\n",
    "    # Move images and labels to the GPU if available\n",
    "    if torch.cuda.is_available():\n",
    "        images, labels = images.to(device), labels.to(device)\n",
    "    \n",
    "    # Forward pass the images through the model\n",
    "    with torch.no_grad():\n",
    "        outputs = model(images)\n",
    "    \n",
    "    # Compute confidence scores using softmax probabilities\n",
    "    softmax_probs = F.softmax(outputs, dim=1)\n",
    "    max_probs, preds = torch.max(softmax_probs, dim=1)\n",
    "    \n",
    "    # Append confidence scores and predictions to lists\n",
    "    confidence_scores.extend(max_probs.cpu().numpy())\n",
    "    predictions.extend(preds.cpu().numpy())\n",
    "    \n",
    "    # Convert one-hot encoded labels to class indices\n",
    "    ground_truths.extend(labels.argmax(dim=1).cpu().numpy())\n",
    "# Calculate the confusion matrix\n",
    "conf_matrix = confusion_matrix(ground_truths, predictions)\n",
    "\n",
    "# Print the confusion matrix\n",
    "print('Confusion Matrix:')\n",
    "print(conf_matrix)\n",
    "# Calculate accuracy from confusion matrix\n",
    "accuracy = (conf_matrix.diagonal().sum() / conf_matrix.sum()) * 100\n",
    "\n",
    "print(f'Accuracy: {accuracy:.2f}%')\n",
    "\n"
   ]
  },
  {
   "cell_type": "code",
   "execution_count": 2,
   "metadata": {},
   "outputs": [
    {
     "ename": "NameError",
     "evalue": "name 'conf_matrix' is not defined",
     "output_type": "error",
     "traceback": [
      "\u001b[0;31m---------------------------------------------------------------------------\u001b[0m",
      "\u001b[0;31mNameError\u001b[0m                                 Traceback (most recent call last)",
      "Cell \u001b[0;32mIn[2], line 6\u001b[0m\n\u001b[1;32m      4\u001b[0m \u001b[38;5;66;03m# Plot the confusion matrix as a heatmap\u001b[39;00m\n\u001b[1;32m      5\u001b[0m plt\u001b[38;5;241m.\u001b[39mfigure(figsize\u001b[38;5;241m=\u001b[39m(\u001b[38;5;241m8\u001b[39m, \u001b[38;5;241m6\u001b[39m))\n\u001b[0;32m----> 6\u001b[0m sns\u001b[38;5;241m.\u001b[39mheatmap(\u001b[43mconf_matrix\u001b[49m, annot\u001b[38;5;241m=\u001b[39m\u001b[38;5;28;01mTrue\u001b[39;00m, fmt\u001b[38;5;241m=\u001b[39m\u001b[38;5;124m'\u001b[39m\u001b[38;5;124md\u001b[39m\u001b[38;5;124m'\u001b[39m, cmap\u001b[38;5;241m=\u001b[39m\u001b[38;5;124m'\u001b[39m\u001b[38;5;124mBlues\u001b[39m\u001b[38;5;124m'\u001b[39m)\n\u001b[1;32m      7\u001b[0m plt\u001b[38;5;241m.\u001b[39mxlabel(\u001b[38;5;124m'\u001b[39m\u001b[38;5;124mPredicted Labels\u001b[39m\u001b[38;5;124m'\u001b[39m)\n\u001b[1;32m      8\u001b[0m plt\u001b[38;5;241m.\u001b[39mylabel(\u001b[38;5;124m'\u001b[39m\u001b[38;5;124mTrue Labels\u001b[39m\u001b[38;5;124m'\u001b[39m)\n",
      "\u001b[0;31mNameError\u001b[0m: name 'conf_matrix' is not defined"
     ]
    },
    {
     "data": {
      "text/plain": [
       "<Figure size 800x600 with 0 Axes>"
      ]
     },
     "metadata": {},
     "output_type": "display_data"
    }
   ],
   "source": [
    "import matplotlib.pyplot as plt\n",
    "import seaborn as sns\n",
    "\n",
    "# Plot the confusion matrix as a heatmap\n",
    "plt.figure(figsize=(8, 6))\n",
    "sns.heatmap(conf_matrix, annot=True, fmt='d', cmap='Blues')\n",
    "plt.xlabel('Predicted Labels')\n",
    "plt.ylabel('True Labels')\n",
    "plt.title('Confusion Matrix')\n",
    "plt.savefig('confusion_matrix.png')  # Save the figure as an image\n",
    "# plt.show()\n",
    "\n",
    "# Print accuracy\n",
    "print(f'Accuracy: {accuracy:.2f}%')\n"
   ]
  },
  {
   "cell_type": "markdown",
   "metadata": {},
   "source": [
    "## Contour Detection and Font Type Classification\n",
    "\n",
    "I am using contours to extract \"Hello World\" text, then I am using pytesseract, an OCR software to detect the letters and put bounding box on top of it, then I am adding some padding to make it the required size to pass into the DeepCNN model.\n",
    "\n",
    " Once it classifies each letter, the font classification is based on maximum class prediction of each letters. The confidence is averaged over top confidence of each letters.\n",
    " I am using OpenCV to save the bounding boxc with prediction score and font class"
   ]
  },
  {
   "cell_type": "code",
   "execution_count": 13,
   "metadata": {},
   "outputs": [
    {
     "name": "stdout",
     "output_type": "stream",
     "text": [
      "Majority Prediction: Roboto\n",
      "Confidence: 0.9123639789494601\n",
      "Majority Prediction: Dancing Script\n",
      "Confidence: 0.9999957746929593\n",
      "Majority Prediction: Dancing Script\n",
      "Confidence: 0.9999957746929593\n",
      "Majority Prediction: Ubuntu\n",
      "Confidence: 0.9296061504970897\n",
      "Majority Prediction: Roboto\n",
      "Confidence: 0.9123639789494601\n",
      "Majority Prediction: Dancing Script\n",
      "Confidence: 0.9999957746929593\n",
      "Majority Prediction: Roboto\n",
      "Confidence: 0.9123639789494601\n",
      "Majority Prediction: Roboto\n",
      "Confidence: 0.9123639789494601\n",
      "Majority Prediction: Ubuntu\n",
      "Confidence: 0.9701025106690147\n"
     ]
    },
    {
     "data": {
      "text/plain": [
       "True"
      ]
     },
     "execution_count": 13,
     "metadata": {},
     "output_type": "execute_result"
    }
   ],
   "source": [
    "import cv2\n",
    "import torch\n",
    "import torch.nn.functional as F\n",
    "from torchvision import transforms\n",
    "from PIL import Image\n",
    "import pytesseract\n",
    "\n",
    "model3 = torch.load('font_classifier3.pth') # Load the model for testing\n",
    "# Define transformation to resize and normalize the image\n",
    "transform = transforms.Compose([\n",
    "    transforms.Resize((64, 64)),\n",
    "    transforms.Grayscale(num_output_channels=1),\n",
    "    transforms.ToTensor(),\n",
    "    transforms.Normalize((0.5,), (0.5,))\n",
    "])\n",
    "\n",
    "font_classes = ['Arimo', 'Dancing Script', 'Fredoka One', 'Oswald', 'PT Serif', 'Patua One', 'Roboto', 'Ubuntu']\n",
    "# Load the CNN model\n",
    "# model = torch.load('font_classifier.pth')\n",
    "model3.eval()\n",
    "\n",
    "# Read the image\n",
    "img = cv2.imread(\"output_images/hello_1.png\")\n",
    "\n",
    "# Convert the image to grayscale\n",
    "gray = cv2.cvtColor(img, cv2.COLOR_BGR2GRAY)\n",
    "\n",
    "# Performing OTSU threshold\n",
    "ret, thresh = cv2.threshold(gray, 0, 255, cv2.THRESH_OTSU | cv2.THRESH_BINARY_INV)\n",
    "\n",
    "# Specify structure shape and kernel size\n",
    "rect_kernel = cv2.getStructuringElement(cv2.MORPH_RECT, (24, 24))\n",
    "\n",
    "# Applying dilation on the threshold image\n",
    "dilation = cv2.dilate(thresh, rect_kernel, iterations=1)\n",
    "\n",
    "# Finding contours\n",
    "contours, hierarchy = cv2.findContours(dilation, cv2.RETR_EXTERNAL, cv2.CHAIN_APPROX_SIMPLE)\n",
    "\n",
    "\n",
    "for cnt in contours:\n",
    "    all_predictions = []\n",
    "    all_confidences = []\n",
    "    #extract bounding box coordinates\n",
    "    x, y, w, h = cv2.boundingRect(cnt)\n",
    "    # Extract region of interest (ROI) from the grayscale image\n",
    "    roi = gray[y:y+h, x:x+w]\n",
    "\n",
    "    # Use pytesseract to get bounding box coordinates of individual characters\n",
    "    boxes = pytesseract.image_to_boxes(roi)\n",
    "    \n",
    "    # Iterate over each bounding box detected by pytesseract\n",
    "    for b in boxes.splitlines():\n",
    "        b = b.split(' ')\n",
    "        char_x, char_y, char_w, char_h = int(b[1]), int(b[2]), int(b[3]), int(b[4])\n",
    "        \n",
    "        # Extract individual character from ROI based on bounding box coordinates\n",
    "        char_roi = roi[char_y:char_h, char_x:char_w]\n",
    "        \n",
    "        # # Plot the character region of interest\n",
    "        # Add padding to make the character ROI 64x64\n",
    "        pad_x = max(0, (64 - char_roi.shape[1]) // 2)\n",
    "        pad_y = max(0, (64 - char_roi.shape[0]) // 2)\n",
    "        if char_roi.shape[0] < 64 and char_roi.shape[1] < 64:\n",
    "            # Add padding to make the character ROI 64x64\n",
    "            pad_x = max(0, (64 - char_roi.shape[1]) // 2)\n",
    "            pad_y = max(0, (64 - char_roi.shape[0]) // 2)\n",
    "            char_roi = np.pad(char_roi, ((pad_y, 64 - char_roi.shape[0] - pad_y), (pad_x, 64 - char_roi.shape[1] - pad_x)), mode='constant', constant_values=255)\n",
    "        \n",
    "        # Convert the character ROI to PIL Image and apply transformation\n",
    "        char_roi_pil = Image.fromarray(char_roi)\n",
    "\n",
    "        char_roi_tensor = transform(Image.fromarray(char_roi))\n",
    "\n",
    "        # Add batch dimension and move to GPU if available\n",
    "        char_roi_tensor = char_roi_tensor.unsqueeze(0).to(torch.device(\"cuda\" if torch.cuda.is_available() else \"cpu\"))\n",
    "\n",
    "        # Forward pass through the model\n",
    "        with torch.no_grad():\n",
    "            output = model3(char_roi_tensor)\n",
    "        \n",
    "        # Convert output probabilities to predicted class and calculate confidence\n",
    "        pred_probs = F.softmax(output, dim=1)\n",
    "        confidence, pred_class = torch.max(pred_probs, dim=1)\n",
    "        \n",
    "        # Append predictions and confidences\n",
    "        all_predictions.append(pred_class.item())\n",
    "        all_confidences.append(confidence.item())\n",
    "    \n",
    "    # Determine the majority vote of predictions\n",
    "    majority_prediction = max(set(all_predictions), key=all_predictions.count)\n",
    "    \n",
    "    # Calculate confidence as the mean confidence of all predictions\n",
    "    confidence = sum(all_confidences) / len(all_confidences)\n",
    "    \n",
    "    # Print the majority prediction and confidence\n",
    "    print(\"Majority Prediction:\", font_classes[majority_prediction])\n",
    "    print(\"Confidence:\", confidence)\n",
    "    text = f'{font_classes[majority_prediction]} ({confidence * 100:.2f}%)'\n",
    "\n",
    "    cv2.putText(img, text, (x, y - 10), cv2.FONT_HERSHEY_SIMPLEX, 0.9, (0, 255, 0), 2)\n",
    "\n",
    "    # Draw bounding box\n",
    "    cv2.rectangle(img, (x, y), (x + w, y + h), (0, 255, 0), 2)\n",
    "cv2.imwrite(\"output_with_predictions.jpg\", img)\n",
    "\n"
   ]
  },
  {
   "cell_type": "code",
   "execution_count": null,
   "metadata": {},
   "outputs": [],
   "source": []
  }
 ],
 "metadata": {
  "kernelspec": {
   "display_name": "lanebuilder",
   "language": "python",
   "name": "python3"
  },
  "language_info": {
   "codemirror_mode": {
    "name": "ipython",
    "version": 3
   },
   "file_extension": ".py",
   "mimetype": "text/x-python",
   "name": "python",
   "nbconvert_exporter": "python",
   "pygments_lexer": "ipython3",
   "version": "3.8.10"
  }
 },
 "nbformat": 4,
 "nbformat_minor": 2
}
